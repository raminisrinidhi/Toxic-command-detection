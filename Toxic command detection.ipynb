{
 "cells": [
  {
   "cell_type": "code",
   "execution_count": 1,
   "metadata": {
    "execution": {
     "iopub.execute_input": "2022-08-01T18:42:29.009269Z",
     "iopub.status.busy": "2022-08-01T18:42:29.008529Z",
     "iopub.status.idle": "2022-08-01T18:42:29.014630Z",
     "shell.execute_reply": "2022-08-01T18:42:29.013397Z",
     "shell.execute_reply.started": "2022-08-01T18:42:29.009225Z"
    }
   },
   "outputs": [],
   "source": [
    "import warnings\n",
    "warnings.filterwarnings('ignore')\n",
    "import pandas as pd"
   ]
  },
  {
   "cell_type": "code",
   "execution_count": 62,
   "metadata": {
    "execution": {
     "iopub.execute_input": "2022-08-01T18:42:29.022411Z",
     "iopub.status.busy": "2022-08-01T18:42:29.022073Z",
     "iopub.status.idle": "2022-08-01T18:42:32.050274Z",
     "shell.execute_reply": "2022-08-01T18:42:32.049344Z",
     "shell.execute_reply.started": "2022-08-01T18:42:29.022375Z"
    }
   },
   "outputs": [],
   "source": [
    "train_data = pd.read_csv(\"C:/Users/banga/Downloads/archive (3)/train.csv\")\n",
    "test_data = pd.read_csv(\"C:/Users/banga/Downloads/archive (3)/test.csv\")"
   ]
  },
  {
   "cell_type": "code",
   "execution_count": 64,
   "metadata": {
    "execution": {
     "iopub.execute_input": "2022-08-01T18:42:32.052759Z",
     "iopub.status.busy": "2022-08-01T18:42:32.052315Z",
     "iopub.status.idle": "2022-08-01T18:42:32.071665Z",
     "shell.execute_reply": "2022-08-01T18:42:32.070652Z",
     "shell.execute_reply.started": "2022-08-01T18:42:32.052720Z"
    }
   },
   "outputs": [
    {
     "data": {
      "text/html": [
       "<div>\n",
       "<style scoped>\n",
       "    .dataframe tbody tr th:only-of-type {\n",
       "        vertical-align: middle;\n",
       "    }\n",
       "\n",
       "    .dataframe tbody tr th {\n",
       "        vertical-align: top;\n",
       "    }\n",
       "\n",
       "    .dataframe thead th {\n",
       "        text-align: right;\n",
       "    }\n",
       "</style>\n",
       "<table border=\"1\" class=\"dataframe\">\n",
       "  <thead>\n",
       "    <tr style=\"text-align: right;\">\n",
       "      <th></th>\n",
       "      <th>id</th>\n",
       "      <th>comment_text</th>\n",
       "      <th>toxic</th>\n",
       "      <th>severe_toxic</th>\n",
       "      <th>obscene</th>\n",
       "      <th>threat</th>\n",
       "      <th>insult</th>\n",
       "      <th>identity_hate</th>\n",
       "    </tr>\n",
       "  </thead>\n",
       "  <tbody>\n",
       "    <tr>\n",
       "      <th>159566</th>\n",
       "      <td>ffe987279560d7ff</td>\n",
       "      <td>\":::::And for the second time of asking, when ...</td>\n",
       "      <td>0</td>\n",
       "      <td>0</td>\n",
       "      <td>0</td>\n",
       "      <td>0</td>\n",
       "      <td>0</td>\n",
       "      <td>0</td>\n",
       "    </tr>\n",
       "    <tr>\n",
       "      <th>159567</th>\n",
       "      <td>ffea4adeee384e90</td>\n",
       "      <td>You should be ashamed of yourself \\n\\nThat is ...</td>\n",
       "      <td>0</td>\n",
       "      <td>0</td>\n",
       "      <td>0</td>\n",
       "      <td>0</td>\n",
       "      <td>0</td>\n",
       "      <td>0</td>\n",
       "    </tr>\n",
       "    <tr>\n",
       "      <th>159568</th>\n",
       "      <td>ffee36eab5c267c9</td>\n",
       "      <td>Spitzer \\n\\nUmm, theres no actual article for ...</td>\n",
       "      <td>0</td>\n",
       "      <td>0</td>\n",
       "      <td>0</td>\n",
       "      <td>0</td>\n",
       "      <td>0</td>\n",
       "      <td>0</td>\n",
       "    </tr>\n",
       "    <tr>\n",
       "      <th>159569</th>\n",
       "      <td>fff125370e4aaaf3</td>\n",
       "      <td>And it looks like it was actually you who put ...</td>\n",
       "      <td>0</td>\n",
       "      <td>0</td>\n",
       "      <td>0</td>\n",
       "      <td>0</td>\n",
       "      <td>0</td>\n",
       "      <td>0</td>\n",
       "    </tr>\n",
       "    <tr>\n",
       "      <th>159570</th>\n",
       "      <td>fff46fc426af1f9a</td>\n",
       "      <td>\"\\nAnd ... I really don't think you understand...</td>\n",
       "      <td>0</td>\n",
       "      <td>0</td>\n",
       "      <td>0</td>\n",
       "      <td>0</td>\n",
       "      <td>0</td>\n",
       "      <td>0</td>\n",
       "    </tr>\n",
       "  </tbody>\n",
       "</table>\n",
       "</div>"
      ],
      "text/plain": [
       "                      id                                       comment_text  \\\n",
       "159566  ffe987279560d7ff  \":::::And for the second time of asking, when ...   \n",
       "159567  ffea4adeee384e90  You should be ashamed of yourself \\n\\nThat is ...   \n",
       "159568  ffee36eab5c267c9  Spitzer \\n\\nUmm, theres no actual article for ...   \n",
       "159569  fff125370e4aaaf3  And it looks like it was actually you who put ...   \n",
       "159570  fff46fc426af1f9a  \"\\nAnd ... I really don't think you understand...   \n",
       "\n",
       "        toxic  severe_toxic  obscene  threat  insult  identity_hate  \n",
       "159566      0             0        0       0       0              0  \n",
       "159567      0             0        0       0       0              0  \n",
       "159568      0             0        0       0       0              0  \n",
       "159569      0             0        0       0       0              0  \n",
       "159570      0             0        0       0       0              0  "
      ]
     },
     "execution_count": 64,
     "metadata": {},
     "output_type": "execute_result"
    }
   ],
   "source": [
    "train_data.tail()"
   ]
  },
  {
   "cell_type": "code",
   "execution_count": 4,
   "metadata": {
    "execution": {
     "iopub.execute_input": "2022-08-01T18:42:32.073809Z",
     "iopub.status.busy": "2022-08-01T18:42:32.073442Z",
     "iopub.status.idle": "2022-08-01T18:42:32.083275Z",
     "shell.execute_reply": "2022-08-01T18:42:32.082381Z",
     "shell.execute_reply.started": "2022-08-01T18:42:32.073772Z"
    }
   },
   "outputs": [
    {
     "data": {
      "text/html": [
       "<div>\n",
       "<style scoped>\n",
       "    .dataframe tbody tr th:only-of-type {\n",
       "        vertical-align: middle;\n",
       "    }\n",
       "\n",
       "    .dataframe tbody tr th {\n",
       "        vertical-align: top;\n",
       "    }\n",
       "\n",
       "    .dataframe thead th {\n",
       "        text-align: right;\n",
       "    }\n",
       "</style>\n",
       "<table border=\"1\" class=\"dataframe\">\n",
       "  <thead>\n",
       "    <tr style=\"text-align: right;\">\n",
       "      <th></th>\n",
       "      <th>id</th>\n",
       "      <th>comment_text</th>\n",
       "    </tr>\n",
       "  </thead>\n",
       "  <tbody>\n",
       "    <tr>\n",
       "      <th>0</th>\n",
       "      <td>00001cee341fdb12</td>\n",
       "      <td>Yo bitch Ja Rule is more succesful then you'll...</td>\n",
       "    </tr>\n",
       "    <tr>\n",
       "      <th>1</th>\n",
       "      <td>0000247867823ef7</td>\n",
       "      <td>== From RfC == \\n\\n The title is fine as it is...</td>\n",
       "    </tr>\n",
       "    <tr>\n",
       "      <th>2</th>\n",
       "      <td>00013b17ad220c46</td>\n",
       "      <td>\" \\n\\n == Sources == \\n\\n * Zawe Ashton on Lap...</td>\n",
       "    </tr>\n",
       "    <tr>\n",
       "      <th>3</th>\n",
       "      <td>00017563c3f7919a</td>\n",
       "      <td>:If you have a look back at the source, the in...</td>\n",
       "    </tr>\n",
       "    <tr>\n",
       "      <th>4</th>\n",
       "      <td>00017695ad8997eb</td>\n",
       "      <td>I don't anonymously edit articles at all.</td>\n",
       "    </tr>\n",
       "    <tr>\n",
       "      <th>5</th>\n",
       "      <td>0001ea8717f6de06</td>\n",
       "      <td>Thank you for understanding. I think very high...</td>\n",
       "    </tr>\n",
       "    <tr>\n",
       "      <th>6</th>\n",
       "      <td>00024115d4cbde0f</td>\n",
       "      <td>Please do not add nonsense to Wikipedia. Such ...</td>\n",
       "    </tr>\n",
       "    <tr>\n",
       "      <th>7</th>\n",
       "      <td>000247e83dcc1211</td>\n",
       "      <td>:Dear god this site is horrible.</td>\n",
       "    </tr>\n",
       "    <tr>\n",
       "      <th>8</th>\n",
       "      <td>00025358d4737918</td>\n",
       "      <td>\" \\n Only a fool can believe in such numbers. ...</td>\n",
       "    </tr>\n",
       "    <tr>\n",
       "      <th>9</th>\n",
       "      <td>00026d1092fe71cc</td>\n",
       "      <td>== Double Redirects == \\n\\n When fixing double...</td>\n",
       "    </tr>\n",
       "  </tbody>\n",
       "</table>\n",
       "</div>"
      ],
      "text/plain": [
       "                 id                                       comment_text\n",
       "0  00001cee341fdb12  Yo bitch Ja Rule is more succesful then you'll...\n",
       "1  0000247867823ef7  == From RfC == \\n\\n The title is fine as it is...\n",
       "2  00013b17ad220c46  \" \\n\\n == Sources == \\n\\n * Zawe Ashton on Lap...\n",
       "3  00017563c3f7919a  :If you have a look back at the source, the in...\n",
       "4  00017695ad8997eb          I don't anonymously edit articles at all.\n",
       "5  0001ea8717f6de06  Thank you for understanding. I think very high...\n",
       "6  00024115d4cbde0f  Please do not add nonsense to Wikipedia. Such ...\n",
       "7  000247e83dcc1211                   :Dear god this site is horrible.\n",
       "8  00025358d4737918  \" \\n Only a fool can believe in such numbers. ...\n",
       "9  00026d1092fe71cc  == Double Redirects == \\n\\n When fixing double..."
      ]
     },
     "execution_count": 4,
     "metadata": {},
     "output_type": "execute_result"
    }
   ],
   "source": [
    "test_data.head(10)"
   ]
  },
  {
   "cell_type": "code",
   "execution_count": 5,
   "metadata": {
    "execution": {
     "iopub.execute_input": "2022-08-01T18:42:32.087193Z",
     "iopub.status.busy": "2022-08-01T18:42:32.086379Z",
     "iopub.status.idle": "2022-08-01T18:42:32.093547Z",
     "shell.execute_reply": "2022-08-01T18:42:32.091702Z",
     "shell.execute_reply.started": "2022-08-01T18:42:32.087149Z"
    }
   },
   "outputs": [
    {
     "name": "stdout",
     "output_type": "stream",
     "text": [
      "(159571, 8) (153164, 2)\n"
     ]
    }
   ],
   "source": [
    "print(train_data.shape, test_data.shape)"
   ]
  },
  {
   "cell_type": "markdown",
   "metadata": {},
   "source": [
    "**PREPROCCESING**"
   ]
  },
  {
   "cell_type": "markdown",
   "metadata": {},
   "source": [
    "\n",
    "**1. LOWERCASING THE TEXT**"
   ]
  },
  {
   "cell_type": "code",
   "execution_count": 6,
   "metadata": {
    "execution": {
     "iopub.execute_input": "2022-08-01T18:42:32.096255Z",
     "iopub.status.busy": "2022-08-01T18:42:32.095603Z",
     "iopub.status.idle": "2022-08-01T18:42:32.439217Z",
     "shell.execute_reply": "2022-08-01T18:42:32.438098Z",
     "shell.execute_reply.started": "2022-08-01T18:42:32.096218Z"
    }
   },
   "outputs": [],
   "source": [
    "train_data.comment_text = [text.lower() for text in train_data.comment_text]\n",
    "test_data.comment_text = [text.lower() for text in test_data.comment_text]"
   ]
  },
  {
   "cell_type": "markdown",
   "metadata": {},
   "source": [
    "**2. TOKENIZATION**"
   ]
  },
  {
   "cell_type": "code",
   "execution_count": 7,
   "metadata": {},
   "outputs": [
    {
     "name": "stdout",
     "output_type": "stream",
     "text": [
      "Requirement already satisfied: nltk in a:\\py\\lib\\site-packages (3.8.1)\n",
      "Requirement already satisfied: tqdm in a:\\py\\lib\\site-packages (from nltk) (4.66.2)\n",
      "Requirement already satisfied: regex>=2021.8.3 in a:\\py\\lib\\site-packages (from nltk) (2023.12.25)\n",
      "Requirement already satisfied: joblib in a:\\py\\lib\\site-packages (from nltk) (1.2.0)\n",
      "Requirement already satisfied: click in a:\\py\\lib\\site-packages (from nltk) (8.1.7)\n",
      "Requirement already satisfied: colorama in a:\\py\\lib\\site-packages (from click->nltk) (0.4.6)\n"
     ]
    },
    {
     "name": "stderr",
     "output_type": "stream",
     "text": [
      "WARNING: You are using pip version 21.2.3; however, version 24.0 is available.\n",
      "You should consider upgrading via the 'A:\\py\\python.exe -m pip install --upgrade pip' command.\n"
     ]
    }
   ],
   "source": [
    "!pip install nltk"
   ]
  },
  {
   "cell_type": "code",
   "execution_count": 8,
   "metadata": {},
   "outputs": [
    {
     "name": "stderr",
     "output_type": "stream",
     "text": [
      "[nltk_data] Downloading package punkt to\n",
      "[nltk_data]     C:\\Users\\banga\\AppData\\Roaming\\nltk_data...\n",
      "[nltk_data]   Unzipping tokenizers\\punkt.zip.\n"
     ]
    },
    {
     "data": {
      "text/plain": [
       "True"
      ]
     },
     "execution_count": 8,
     "metadata": {},
     "output_type": "execute_result"
    }
   ],
   "source": [
    "import nltk\n",
    "nltk.download('punkt')"
   ]
  },
  {
   "cell_type": "code",
   "execution_count": 9,
   "metadata": {
    "execution": {
     "iopub.execute_input": "2022-08-01T18:42:32.441908Z",
     "iopub.status.busy": "2022-08-01T18:42:32.440641Z",
     "iopub.status.idle": "2022-08-01T18:47:04.643734Z",
     "shell.execute_reply": "2022-08-01T18:47:04.642529Z",
     "shell.execute_reply.started": "2022-08-01T18:42:32.441868Z"
    }
   },
   "outputs": [],
   "source": [
    "from nltk.tokenize import word_tokenize\n",
    "train_data.comment_text = [word_tokenize(text) for text in train_data.comment_text]\n",
    "test_data.comment_text = [word_tokenize(text) for text in test_data.comment_text]"
   ]
  },
  {
   "cell_type": "markdown",
   "metadata": {},
   "source": [
    "**3. REMOVING STOP WORDS**"
   ]
  },
  {
   "cell_type": "code",
   "execution_count": 11,
   "metadata": {},
   "outputs": [
    {
     "name": "stderr",
     "output_type": "stream",
     "text": [
      "[nltk_data] Downloading package stopwords to\n",
      "[nltk_data]     C:\\Users\\banga\\AppData\\Roaming\\nltk_data...\n",
      "[nltk_data]   Unzipping corpora\\stopwords.zip.\n"
     ]
    },
    {
     "data": {
      "text/plain": [
       "True"
      ]
     },
     "execution_count": 11,
     "metadata": {},
     "output_type": "execute_result"
    }
   ],
   "source": [
    "import nltk\n",
    "nltk.download('stopwords')"
   ]
  },
  {
   "cell_type": "code",
   "execution_count": 12,
   "metadata": {
    "execution": {
     "iopub.execute_input": "2022-08-01T18:47:04.645457Z",
     "iopub.status.busy": "2022-08-01T18:47:04.645158Z",
     "iopub.status.idle": "2022-08-01T18:47:05.683476Z",
     "shell.execute_reply": "2022-08-01T18:47:05.682364Z",
     "shell.execute_reply.started": "2022-08-01T18:47:04.645432Z"
    }
   },
   "outputs": [],
   "source": [
    "from nltk.corpus import stopwords\n",
    "stop = stopwords.words('english')\n",
    "train_data.comment_text = [word for word in train_data.comment_text if not word in stop]\n",
    "test_data.comment_text = [word for word in test_data.comment_text if not word in stop]"
   ]
  },
  {
   "cell_type": "markdown",
   "metadata": {},
   "source": [
    "**4. STEMMING AND LEMMATIZATION**"
   ]
  },
  {
   "cell_type": "code",
   "execution_count": 14,
   "metadata": {},
   "outputs": [
    {
     "name": "stderr",
     "output_type": "stream",
     "text": [
      "[nltk_data] Downloading package wordnet to\n",
      "[nltk_data]     C:\\Users\\banga\\AppData\\Roaming\\nltk_data...\n"
     ]
    },
    {
     "data": {
      "text/plain": [
       "True"
      ]
     },
     "execution_count": 14,
     "metadata": {},
     "output_type": "execute_result"
    }
   ],
   "source": [
    "import nltk\n",
    "nltk.download('wordnet')"
   ]
  },
  {
   "cell_type": "code",
   "execution_count": 15,
   "metadata": {
    "execution": {
     "iopub.execute_input": "2022-08-01T18:47:05.685171Z",
     "iopub.status.busy": "2022-08-01T18:47:05.684887Z",
     "iopub.status.idle": "2022-08-01T18:56:22.468369Z",
     "shell.execute_reply": "2022-08-01T18:56:22.467378Z",
     "shell.execute_reply.started": "2022-08-01T18:47:05.685146Z"
    }
   },
   "outputs": [],
   "source": [
    "from nltk.stem.porter import PorterStemmer\n",
    "from nltk.stem.wordnet import WordNetLemmatizer\n",
    "stem = PorterStemmer()\n",
    "lem = WordNetLemmatizer()\n",
    "\n",
    "def stem_lem(data):\n",
    "    lemmatized = []\n",
    "    for text in data:\n",
    "        final = []\n",
    "        for word in text:\n",
    "            #Check if the recursion depth does not exceed\n",
    "            if len(word) < 990:\n",
    "                stem.stem(word)\n",
    "                final.append(lem.lemmatize(word))\n",
    "        lemmatized.append(final)\n",
    "    return lemmatized\n",
    "\n",
    "train_data.comment_text = stem_lem(train_data.comment_text)\n",
    "test_data.comment_text = stem_lem(test_data.comment_text)"
   ]
  },
  {
   "cell_type": "markdown",
   "metadata": {},
   "source": [
    "**BULDING RNN WITH TENSORFLOW**"
   ]
  },
  {
   "cell_type": "code",
   "execution_count": 16,
   "metadata": {
    "execution": {
     "iopub.execute_input": "2022-08-01T20:36:10.056898Z",
     "iopub.status.busy": "2022-08-01T20:36:10.055805Z",
     "iopub.status.idle": "2022-08-01T20:36:10.063288Z",
     "shell.execute_reply": "2022-08-01T20:36:10.061863Z",
     "shell.execute_reply.started": "2022-08-01T20:36:10.056848Z"
    }
   },
   "outputs": [],
   "source": [
    "from tensorflow.keras.layers import Dense, Dropout, Embedding, GRU, Bidirectional, LSTM\n",
    "from tensorflow.keras.callbacks import TensorBoard\n",
    "from tensorflow.keras import Sequential\n",
    "from keras.preprocessing import text\n",
    "#from keras.utils import pad_sequences\n",
    "from keras_preprocessing.sequence import pad_sequences"
   ]
  },
  {
   "cell_type": "code",
   "execution_count": 17,
   "metadata": {
    "execution": {
     "iopub.execute_input": "2022-08-01T20:36:11.799607Z",
     "iopub.status.busy": "2022-08-01T20:36:11.798314Z",
     "iopub.status.idle": "2022-08-01T20:36:45.695591Z",
     "shell.execute_reply": "2022-08-01T20:36:45.694583Z",
     "shell.execute_reply.started": "2022-08-01T20:36:11.799550Z"
    }
   },
   "outputs": [],
   "source": [
    "X_train = train_data[\"comment_text\"]\n",
    "y_train = train_data[[\"toxic\", 'severe_toxic', 'obscene', 'threat', 'insult', 'identity_hate']].values\n",
    "X_test = test_data[\"comment_text\"]\n",
    "\n",
    "tokenizer = text.Tokenizer()\n",
    "\n",
    "tokenizer.fit_on_texts(X_train)\n",
    "tokenizer.fit_on_texts(X_test)\n",
    "\n",
    "X_train = tokenizer.texts_to_sequences(X_train)\n",
    "X_test = tokenizer.texts_to_sequences(X_test)\n",
    "\n",
    "max_l = 100\n",
    "\n",
    "X_train = pad_sequences(X_train, maxlen = max_l)\n",
    "X_test = pad_sequences(X_test, maxlen = max_l)"
   ]
  },
  {
   "cell_type": "code",
   "execution_count": 18,
   "metadata": {
    "execution": {
     "iopub.execute_input": "2022-08-01T20:36:45.698344Z",
     "iopub.status.busy": "2022-08-01T20:36:45.697451Z",
     "iopub.status.idle": "2022-08-01T20:36:49.188764Z",
     "shell.execute_reply": "2022-08-01T20:36:49.187662Z",
     "shell.execute_reply.started": "2022-08-01T20:36:45.698275Z"
    }
   },
   "outputs": [],
   "source": [
    "model = Sequential()\n",
    "model.add(Embedding(20000, 50, input_shape = (100, )))\n",
    "model.add(Bidirectional(LSTM(50, dropout=0.1)))\n",
    "model.add(Dense(50, activation = 'relu'))\n",
    "model.add(Dropout(0.1))\n",
    "model.add(Dense(6, activation = 'sigmoid'))\n",
    "model.compile(loss='binary_crossentropy',\n",
    "              optimizer='adam',\n",
    "              metrics=['accuracy'])\n",
    "\n",
    "tensorboard = TensorBoard(log_dir='./logs',\n",
    "                 histogram_freq=1, \n",
    "                 write_graph=True, \n",
    "                 write_images=False)"
   ]
  },
  {
   "cell_type": "code",
   "execution_count": 19,
   "metadata": {
    "execution": {
     "iopub.execute_input": "2022-08-01T20:36:49.190517Z",
     "iopub.status.busy": "2022-08-01T20:36:49.190134Z",
     "iopub.status.idle": "2022-08-01T20:39:13.631613Z",
     "shell.execute_reply": "2022-08-01T20:39:13.630488Z",
     "shell.execute_reply.started": "2022-08-01T20:36:49.190480Z"
    }
   },
   "outputs": [
    {
     "name": "stdout",
     "output_type": "stream",
     "text": [
      "Epoch 1/2\n",
      "4488/4488 [==============================] - 216s 42ms/step - loss: 0.0657 - accuracy: 0.9511 - val_loss: 0.0525 - val_accuracy: 0.9940\n",
      "Epoch 2/2\n",
      "4488/4488 [==============================] - 175s 39ms/step - loss: 0.0479 - accuracy: 0.9888 - val_loss: 0.0511 - val_accuracy: 0.9940\n"
     ]
    }
   ],
   "source": [
    "history = model.fit(X_train, y_train, epochs = 2, validation_split = 0.1, batch_size = 32, callbacks=[tensorboard])"
   ]
  },
  {
   "cell_type": "code",
   "execution_count": 20,
   "metadata": {
    "execution": {
     "iopub.execute_input": "2022-08-01T20:39:13.636213Z",
     "iopub.status.busy": "2022-08-01T20:39:13.635228Z",
     "iopub.status.idle": "2022-08-01T20:39:13.895514Z",
     "shell.execute_reply": "2022-08-01T20:39:13.894262Z",
     "shell.execute_reply.started": "2022-08-01T20:39:13.636172Z"
    }
   },
   "outputs": [
    {
     "data": {
      "text/plain": [
       "Text(0, 0.5, 'accuracy')"
      ]
     },
     "execution_count": 20,
     "metadata": {},
     "output_type": "execute_result"
    },
    {
     "data": {
      "image/png": "[encoded data removed]",
      "text/plain": [
       "<Figure size 1500x1500 with 1 Axes>"
      ]
     },
     "metadata": {},
     "output_type": "display_data"
    }
   ],
   "source": [
    "import matplotlib.pyplot as plt\n",
    "plt.figure(figsize= (15, 15))\n",
    "plt.title('model accuracy')\n",
    "plt.plot(history.history['accuracy'])\n",
    "plt.plot(history.history['val_accuracy'])\n",
    "plt.legend(['train_accuracy', 'val_accuracy'])\n",
    "plt.xlabel('epochs')\n",
    "plt.ylabel('accuracy')"
   ]
  },
  {
   "cell_type": "code",
   "execution_count": 21,
   "metadata": {
    "execution": {
     "iopub.execute_input": "2022-08-01T20:39:13.897376Z",
     "iopub.status.busy": "2022-08-01T20:39:13.896997Z",
     "iopub.status.idle": "2022-08-01T20:39:14.128060Z",
     "shell.execute_reply": "2022-08-01T20:39:14.127169Z",
     "shell.execute_reply.started": "2022-08-01T20:39:13.897336Z"
    }
   },
   "outputs": [
    {
     "data": {
      "text/plain": [
       "Text(0, 0.5, 'loss')"
      ]
     },
     "execution_count": 21,
     "metadata": {},
     "output_type": "execute_result"
    },
    {
     "data": {
      "image/png": "[encoded data removed]",
      "text/plain": [
       "<Figure size 1500x1500 with 1 Axes>"
      ]
     },
     "metadata": {},
     "output_type": "display_data"
    }
   ],
   "source": [
    "plt.figure(figsize= (15, 15))\n",
    "plt.title('model loss')\n",
    "plt.plot(history.history['loss'])\n",
    "plt.plot(history.history['val_loss'])\n",
    "plt.legend(['train_loss', 'val_loss'])\n",
    "plt.xlabel('epochs')\n",
    "plt.ylabel('loss')"
   ]
  },
  {
   "cell_type": "code",
   "execution_count": 22,
   "metadata": {
    "execution": {
     "iopub.execute_input": "2022-08-01T20:39:14.130506Z",
     "iopub.status.busy": "2022-08-01T20:39:14.129576Z",
     "iopub.status.idle": "2022-08-01T20:39:35.151708Z",
     "shell.execute_reply": "2022-08-01T20:39:35.150690Z",
     "shell.execute_reply.started": "2022-08-01T20:39:14.130469Z"
    }
   },
   "outputs": [],
   "source": [
    "predictions = model.predict(X_test)"
   ]
  },
  {
   "cell_type": "code",
   "execution_count": 24,
   "metadata": {
    "execution": {
     "iopub.execute_input": "2022-08-01T20:39:35.153668Z",
     "iopub.status.busy": "2022-08-01T20:39:35.153304Z",
     "iopub.status.idle": "2022-08-01T20:39:35.183758Z",
     "shell.execute_reply": "2022-08-01T20:39:35.182910Z",
     "shell.execute_reply.started": "2022-08-01T20:39:35.153632Z"
    }
   },
   "outputs": [
    {
     "data": {
      "text/html": [
       "<div>\n",
       "<style scoped>\n",
       "    .dataframe tbody tr th:only-of-type {\n",
       "        vertical-align: middle;\n",
       "    }\n",
       "\n",
       "    .dataframe tbody tr th {\n",
       "        vertical-align: top;\n",
       "    }\n",
       "\n",
       "    .dataframe thead th {\n",
       "        text-align: right;\n",
       "    }\n",
       "</style>\n",
       "<table border=\"1\" class=\"dataframe\">\n",
       "  <thead>\n",
       "    <tr style=\"text-align: right;\">\n",
       "      <th></th>\n",
       "      <th>id</th>\n",
       "      <th>toxic</th>\n",
       "      <th>severe_toxic</th>\n",
       "      <th>obscene</th>\n",
       "      <th>threat</th>\n",
       "      <th>insult</th>\n",
       "      <th>identity_hate</th>\n",
       "    </tr>\n",
       "  </thead>\n",
       "  <tbody>\n",
       "    <tr>\n",
       "      <th>0</th>\n",
       "      <td>[yo, bitch, ja, rule, is, more, succesful, the...</td>\n",
       "      <td>0.991811</td>\n",
       "      <td>0.268654</td>\n",
       "      <td>0.955409</td>\n",
       "      <td>0.047575</td>\n",
       "      <td>0.838877</td>\n",
       "      <td>0.138394</td>\n",
       "    </tr>\n",
       "    <tr>\n",
       "      <th>1</th>\n",
       "      <td>[==, from, rfc, ==, the, title, is, fine, a, i...</td>\n",
       "      <td>0.001148</td>\n",
       "      <td>0.000005</td>\n",
       "      <td>0.000260</td>\n",
       "      <td>0.000029</td>\n",
       "      <td>0.000177</td>\n",
       "      <td>0.000027</td>\n",
       "    </tr>\n",
       "    <tr>\n",
       "      <th>2</th>\n",
       "      <td>[``, ==, source, ==, *, zawe, ashton, on, lapl...</td>\n",
       "      <td>0.006236</td>\n",
       "      <td>0.000025</td>\n",
       "      <td>0.001153</td>\n",
       "      <td>0.000140</td>\n",
       "      <td>0.000897</td>\n",
       "      <td>0.000170</td>\n",
       "    </tr>\n",
       "    <tr>\n",
       "      <th>3</th>\n",
       "      <td>[:, if, you, have, a, look, back, at, the, sou...</td>\n",
       "      <td>0.001018</td>\n",
       "      <td>0.000004</td>\n",
       "      <td>0.000232</td>\n",
       "      <td>0.000027</td>\n",
       "      <td>0.000162</td>\n",
       "      <td>0.000023</td>\n",
       "    </tr>\n",
       "    <tr>\n",
       "      <th>4</th>\n",
       "      <td>[i, do, n't, anonymously, edit, article, at, a...</td>\n",
       "      <td>0.002428</td>\n",
       "      <td>0.000011</td>\n",
       "      <td>0.000520</td>\n",
       "      <td>0.000065</td>\n",
       "      <td>0.000400</td>\n",
       "      <td>0.000065</td>\n",
       "    </tr>\n",
       "    <tr>\n",
       "      <th>...</th>\n",
       "      <td>...</td>\n",
       "      <td>...</td>\n",
       "      <td>...</td>\n",
       "      <td>...</td>\n",
       "      <td>...</td>\n",
       "      <td>...</td>\n",
       "      <td>...</td>\n",
       "    </tr>\n",
       "    <tr>\n",
       "      <th>153159</th>\n",
       "      <td>[., i, totally, agree, ,, this, stuff, is, not...</td>\n",
       "      <td>0.021406</td>\n",
       "      <td>0.000146</td>\n",
       "      <td>0.003438</td>\n",
       "      <td>0.000805</td>\n",
       "      <td>0.004263</td>\n",
       "      <td>0.000845</td>\n",
       "    </tr>\n",
       "    <tr>\n",
       "      <th>153160</th>\n",
       "      <td>[==, throw, from, out, field, to, home, plate,...</td>\n",
       "      <td>0.003171</td>\n",
       "      <td>0.000013</td>\n",
       "      <td>0.000528</td>\n",
       "      <td>0.000080</td>\n",
       "      <td>0.000460</td>\n",
       "      <td>0.000077</td>\n",
       "    </tr>\n",
       "    <tr>\n",
       "      <th>153161</th>\n",
       "      <td>[``, ==, okinotorishima, category, ==, i, see,...</td>\n",
       "      <td>0.003221</td>\n",
       "      <td>0.000011</td>\n",
       "      <td>0.000579</td>\n",
       "      <td>0.000080</td>\n",
       "      <td>0.000481</td>\n",
       "      <td>0.000071</td>\n",
       "    </tr>\n",
       "    <tr>\n",
       "      <th>153162</th>\n",
       "      <td>[``, ==, ``, '', one, of, the, founding, natio...</td>\n",
       "      <td>0.001734</td>\n",
       "      <td>0.000011</td>\n",
       "      <td>0.000605</td>\n",
       "      <td>0.000018</td>\n",
       "      <td>0.000246</td>\n",
       "      <td>0.000035</td>\n",
       "    </tr>\n",
       "    <tr>\n",
       "      <th>153163</th>\n",
       "      <td>[``, :, :, :, stop, already, ., your, bullshit...</td>\n",
       "      <td>0.767188</td>\n",
       "      <td>0.020576</td>\n",
       "      <td>0.459106</td>\n",
       "      <td>0.017054</td>\n",
       "      <td>0.348720</td>\n",
       "      <td>0.047100</td>\n",
       "    </tr>\n",
       "  </tbody>\n",
       "</table>\n",
       "<p>153164 rows × 7 columns</p>\n",
       "</div>"
      ],
      "text/plain": [
       "                                                       id     toxic  \\\n",
       "0       [yo, bitch, ja, rule, is, more, succesful, the...  0.991811   \n",
       "1       [==, from, rfc, ==, the, title, is, fine, a, i...  0.001148   \n",
       "2       [``, ==, source, ==, *, zawe, ashton, on, lapl...  0.006236   \n",
       "3       [:, if, you, have, a, look, back, at, the, sou...  0.001018   \n",
       "4       [i, do, n't, anonymously, edit, article, at, a...  0.002428   \n",
       "...                                                   ...       ...   \n",
       "153159  [., i, totally, agree, ,, this, stuff, is, not...  0.021406   \n",
       "153160  [==, throw, from, out, field, to, home, plate,...  0.003171   \n",
       "153161  [``, ==, okinotorishima, category, ==, i, see,...  0.003221   \n",
       "153162  [``, ==, ``, '', one, of, the, founding, natio...  0.001734   \n",
       "153163  [``, :, :, :, stop, already, ., your, bullshit...  0.767188   \n",
       "\n",
       "        severe_toxic   obscene    threat    insult  identity_hate  \n",
       "0           0.268654  0.955409  0.047575  0.838877       0.138394  \n",
       "1           0.000005  0.000260  0.000029  0.000177       0.000027  \n",
       "2           0.000025  0.001153  0.000140  0.000897       0.000170  \n",
       "3           0.000004  0.000232  0.000027  0.000162       0.000023  \n",
       "4           0.000011  0.000520  0.000065  0.000400       0.000065  \n",
       "...              ...       ...       ...       ...            ...  \n",
       "153159      0.000146  0.003438  0.000805  0.004263       0.000845  \n",
       "153160      0.000013  0.000528  0.000080  0.000460       0.000077  \n",
       "153161      0.000011  0.000579  0.000080  0.000481       0.000071  \n",
       "153162      0.000011  0.000605  0.000018  0.000246       0.000035  \n",
       "153163      0.020576  0.459106  0.017054  0.348720       0.047100  \n",
       "\n",
       "[153164 rows x 7 columns]"
      ]
     },
     "execution_count": 24,
     "metadata": {},
     "output_type": "execute_result"
    }
   ],
   "source": [
    "df = pd.DataFrame({'id': test_data['comment_text']})\n",
    "cols = train_data[[\"toxic\", 'severe_toxic', 'obscene', 'threat', 'insult', 'identity_hate']]\n",
    "predictions_df = pd.concat([df, pd.DataFrame(predictions, columns = cols.columns)], axis=1)\n",
    "predictions_df"
   ]
  },
  {
   "cell_type": "code",
   "execution_count": 86,
   "metadata": {},
   "outputs": [
    {
     "name": "stdout",
     "output_type": "stream",
     "text": [
      "[['hi', 'iam', 'back', 'again']]\n"
     ]
    }
   ],
   "source": [
    "comment=\"hi iam back again\"\n",
    "comment = comment.lower()\n",
    "comment = [word_tokenize(comment)]\n",
    "comment = [word for word in comment if not word in stop]\n",
    "comment = stem_lem(comment)\n",
    "print(comment)\n",
    "tokenizer.fit_on_texts(comment)\n",
    "comment = tokenizer.texts_to_sequences(comment)\n",
    "\n",
    "comment = pad_sequences(comment, maxlen = max_l)\n",
    "result = model.predict(comment)"
   ]
  },
  {
   "cell_type": "code",
   "execution_count": 87,
   "metadata": {},
   "outputs": [
    {
     "data": {
      "text/plain": [
       "array([[3.2289405e-03, 2.7377255e-05, 8.7541935e-04, 1.2321257e-04,\n",
       "        6.2305480e-04, 1.3208869e-04]], dtype=float32)"
      ]
     },
     "execution_count": 87,
     "metadata": {},
     "output_type": "execute_result"
    }
   ],
   "source": [
    "result"
   ]
  },
  {
   "cell_type": "code",
   "execution_count": null,
   "metadata": {},
   "outputs": [],
   "source": []
  },
  {
   "cell_type": "code",
   "execution_count": null,
   "metadata": {},
   "outputs": [],
   "source": []
  }
 ],
 "metadata": {
  "kernelspec": {
   "display_name": "Python 3 (ipykernel)",
   "language": "python",
   "name": "python3"
  },
  "language_info": {
   "codemirror_mode": {
    "name": "ipython",
    "version": 3
   },
   "file_extension": ".py",
   "mimetype": "text/x-python",
   "name": "python",
   "nbconvert_exporter": "python",
   "pygments_lexer": "ipython3",
   "version": "3.9.7"
  }
 },
 "nbformat": 4,
 "nbformat_minor": 4
}
